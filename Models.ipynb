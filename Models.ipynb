{
 "cells": [
  {
   "cell_type": "markdown",
   "id": "a5e864ae",
   "metadata": {},
   "source": [
    "Authors:\n",
    "- Thomas Vray: 474 290\n",
    "- Bryan Francois:\n",
    "- Wassim Al Khouri: 513 160"
   ]
  },
  {
   "cell_type": "code",
   "execution_count": 1,
   "id": "a4dcc6d6",
   "metadata": {},
   "outputs": [],
   "source": [
    "# Import libraries\n",
    "import gurobipy as gp\n",
    "from gurobipy import GRB\n",
    "import numpy as np\n",
    "import pandas as pd\n",
    "import matplotlib.pyplot as plt\n",
    "import json, os, glob"
   ]
  },
  {
   "cell_type": "markdown",
   "id": "e1888bba",
   "metadata": {},
   "source": [
    "# Introduction"
   ]
  },
  {
   "cell_type": "markdown",
   "id": "9157e7ae",
   "metadata": {},
   "source": [
    "Interpreter Scheduling Problems (ISP) are increasingly relevant in today’s globalized and multicultural society. These problems arise in various critical domains such as healthcare, legal systems, and international or urban institutional meetings, where multilingual communication is essential for effective interaction. Poor scheduling or mismanagement of interpreters can lead to serious consequences: for example, a patient might be unable to accurately describe their symptoms during a medical consultation, potentially endangering their life. In legal or political contexts, miscommunication due to interpreter shortages or mismatches can result in misunderstandings, delays, or even violations of fundamental rights.\n",
    " \n",
    "Effective interpreter scheduling is a complex task that must balance interpreter availability, language coverage, fairness of workload distribution, and institutional constraints. Unlike automated translation systems which are not yet 100% reliable and often fail to capture nuance in real-time spoken interaction—human interpreters remain essential in high-stakes or sensitive environments. Thus, the goal is to develop robust schedules that maximize language pair coverage while also being flexible enough to handle unforeseen events such as sudden changes in availability or last-minute session modifications.\n",
    " \n",
    "Several research papers have addressed interpreter scheduling problems by proposing various mathematical and algorithmic approaches, including integer programming, stochastic modeling, and heuristic optimization.\n",
    " \n",
    "In this work, our objective is to explore and solve a realistic Interpreters Scheduling Problem (ISP). The setting involves a group of interpreters working for an institution, each proficient in a specific set of languages. These interpreters must be assigned to various sessions, where speakers communicate exclusively in their native languages. Interpreters are essential to ensure mutual understanding between participants. The main goal is to maximize the coverage of language pairs across all sessions, while respecting a range of logical and operational constraints. Additionally, we investigate advanced mechanisms such as bridging, which allows interpreters to indirectly connect languages through a shared intermediary."
   ]
  },
  {
   "cell_type": "markdown",
   "id": "44584b6a",
   "metadata": {},
   "source": [
    "# Formulation"
   ]
  },
  {
   "cell_type": "markdown",
   "id": "3b25dd7f",
   "metadata": {},
   "source": [
    "## 1.Simple IP (model 1)"
   ]
  },
  {
   "cell_type": "markdown",
   "id": "463f0abe",
   "metadata": {},
   "source": [
    "<b>LP</b> represents all the possible pairwise combinations of languages spoken in a set of languages.\n",
    "\n",
    "<b>X_{bsli}</b> represents the assignment of interpreter <b>i</b> to session <b>s</b> for language pair <b>l</b> in the block <b>b</b>."
   ]
  },
  {
   "cell_type": "markdown",
   "id": "66f2ae65",
   "metadata": {},
   "source": [
    "### OF1"
   ]
  },
  {
   "cell_type": "markdown",
   "id": "fa89bc9c",
   "metadata": {},
   "source": [
    "In order to maximize the total number of languages pairs covered:\n",
    "$$ \\max \\sum_{i\\in I} \\sum_{b \\in B}\\sum_{s \\in S(b)} \\sum_{l \\in (LP(s) \\cap LP(i))} X_{bsli} $$\n",
    "\n",
    "<b>Subject to:</b>\n",
    "\n",
    "$$\\sum_{s \\in S(b)}\\sum_{l \\in (LP(s) \\cap LP(i))} X_{bsli} \\leq 1 \\quad \\forall i, b $$\n",
    "\n",
    "$$\\sum_{i \\in I} X_{bsli} \\leq 1 \\quad\\forall b, s, l $$"
   ]
  },
  {
   "cell_type": "markdown",
   "id": "e4e37050",
   "metadata": {},
   "source": [
    "### OF2"
   ]
  },
  {
   "cell_type": "markdown",
   "id": "0f15afc8",
   "metadata": {},
   "source": [
    "For the second objective function, we introduced a new binary variable describing if all pair of languages are covered or not in a session $SC_{bs}$:\n",
    "\n",
    "$$ \n",
    "    \\max \\sum_{b \\in B}\\sum_{s \\in S(b)} SC_{bs} \n",
    "$$\n",
    "\n",
    "<b>Subject to:</b>\n",
    "\n",
    "$$\n",
    "    \\sum_{s \\in S(b)}\\sum_{l \\in (LP(s) \\cap LP(i))} X_{bsli} \\leq 1 \\quad \\forall i, b\n",
    "$$\n",
    "$$\n",
    "    \\sum_{i \\in I} X_{bsli} \\leq 1 \\quad\\forall b, s, l \n",
    "$$\n",
    "$$\n",
    "    SC_{bs} \\leq \\frac{1}{|LP(s)|} \\sum_{i \\in I} \\sum_{l \\in (LP(s) \\cap LP(i))} X_{bsli} \\quad \\forall b, s\n",
    "$$"
   ]
  },
  {
   "cell_type": "markdown",
   "id": "7a817173",
   "metadata": {},
   "source": [
    "### model 1"
   ]
  },
  {
   "cell_type": "code",
   "execution_count": 2,
   "id": "58448f1e",
   "metadata": {},
   "outputs": [],
   "source": [
    "def Model_1(data, OBJ_FUNC=1):\n",
    "    model = gp.Model(\"model1\")\n",
    "    \n",
    "    #unpack data\n",
    "    Blocks = data[\"Blocks\"]\n",
    "    Sessions = data[\"Sessions\"]\n",
    "    Sessions_blocks = data[\"Sessions_b\"]\n",
    "    Interpreters = data[\"Interpreters\"]\n",
    "    Languages = data[\"Languages\"]\n",
    "    Languages_sessions = data[\"Languages_s\"]\n",
    "    Languages_interpreters = data[\"Languages_i\"]\n",
    "\n",
    "    #Generate the pairwise combinations of languages\n",
    "    Pairwise_languages_sessions = Languages_sessions.copy()\n",
    "    for s in Sessions:\n",
    "        Pairwise_languages_sessions[s] = [(l1, l2) for i, l1 in enumerate(Languages_sessions[s]) \n",
    "                                          for l2 in Languages_sessions[s][i+1:]]\n",
    "\n",
    "\n",
    "    idx = [\n",
    "        (b, s, l, i)\n",
    "        for b in Blocks\n",
    "        for s in Sessions_blocks[b]\n",
    "        for l in Pairwise_languages_sessions[s]          # l = (l1,l2)\n",
    "        for i in Interpreters\n",
    "        if l[0] in Languages_interpreters[i] and l[1] in Languages_interpreters[i]\n",
    "    ]\n",
    "    # Create variables\n",
    "    #x[b, s, language, interpreter] = 1 if block b is assigned to session s with language l and interpreter i\n",
    "    assign = model.addVars(idx, vtype=GRB.BINARY)\n",
    "    session_covered = model.addVars(Sessions, vtype=GRB.BINARY)\n",
    "    # Add constraints\n",
    "    \n",
    "    #One interpreter can translate only one session at a time\n",
    "    for b in Blocks:\n",
    "        for i in Interpreters:\n",
    "            model.addConstr(assign.sum(b, '*', '*', i) <= 1)\n",
    "    \n",
    "    # Each session can have only one interpreter per language\n",
    "    for b in Blocks:\n",
    "        for s in Sessions_blocks[b]:\n",
    "            for l in Pairwise_languages_sessions[s]:\n",
    "                model.addConstr(assign.sum(b, s, l, '*') <= 1)\n",
    "            \n",
    "    #Session covered if all languages are covered\n",
    "    for s in Sessions:\n",
    "        total_languages = len(Pairwise_languages_sessions[s])\n",
    "        model.addConstr(session_covered[s] <= assign.sum('*', s, '*', '*') / total_languages)     \n",
    "    \n",
    "\n",
    "    # Set objective\n",
    "    #Maximize the number of languages translated\n",
    "    #OBJ1\n",
    "    if OBJ_FUNC == 1:\n",
    "        model.setObjective(assign.sum('*', '*', '*', '*'), GRB.MAXIMIZE)\n",
    "    #\n",
    "    #Max the number of sessions translated\n",
    "    if OBJ_FUNC == 2:\n",
    "        model.setObjective(session_covered.sum('*'), GRB.MAXIMIZE)\n",
    "    \n",
    "    return model"
   ]
  },
  {
   "cell_type": "markdown",
   "id": "cb04f8a1",
   "metadata": {},
   "source": [
    "## 2. Some operational constraints (model 2)"
   ]
  },
  {
   "cell_type": "markdown",
   "id": "e04a62eb",
   "metadata": {},
   "source": [
    "We added 2 new constrains to our model:"
   ]
  },
  {
   "cell_type": "markdown",
   "id": "28a8f2f7",
   "metadata": {},
   "source": [
    "### OC1"
   ]
  },
  {
   "cell_type": "markdown",
   "id": "bf2e28c8",
   "metadata": {},
   "source": [
    "Each interpreter can be assigned to at most 15 sessions\n",
    "$$\n",
    "    \\sum_{b \\in B}\\sum_{s \\in S(b)}\\sum_{l \\in (LP(s) \\cap LP(i))} X_{bsli} \\leq 15 \\quad \\forall i\n",
    "$$"
   ]
  },
  {
   "cell_type": "markdown",
   "id": "6698f390",
   "metadata": {},
   "source": [
    "### OC2"
   ]
  },
  {
   "cell_type": "markdown",
   "id": "b8ffd26c",
   "metadata": {},
   "source": [
    "Each interpreter cannot work during more than 3 consecutives blocks\n",
    "$$\n",
    "    \\sum_{b \\in B'}\\sum_{s \\in S(b)}\\sum_{l \\in (LP(s) \\cap LP(i))} X_{bsli} \\leq 3 \\quad \\forall i, B'\n",
    "$$\n",
    "$B'$ are all sets of 4 consecutives blocks of B"
   ]
  },
  {
   "cell_type": "markdown",
   "id": "95a56673",
   "metadata": {},
   "source": [
    "### model 2"
   ]
  },
  {
   "cell_type": "code",
   "execution_count": 3,
   "id": "70df8702",
   "metadata": {},
   "outputs": [],
   "source": [
    "def Model_2(data, OBJ_FUNC=1):\n",
    "    model = gp.Model(\"model2\")\n",
    "    \n",
    "    \n",
    "    #unpack data\n",
    "    Blocks = data[\"Blocks\"]\n",
    "    Sessions = data[\"Sessions\"]\n",
    "    Sessions_blocks = data[\"Sessions_b\"]\n",
    "    Interpreters = data[\"Interpreters\"]\n",
    "    Languages = data[\"Languages\"]\n",
    "    Languages_sessions = data[\"Languages_s\"]\n",
    "    Languages_interpreters = data[\"Languages_i\"]\n",
    "\n",
    "    #Generate the pairwise combinations of languages\n",
    "    Pairwise_languages_sessions = Languages_sessions.copy()\n",
    "    for s in Sessions:\n",
    "        Pairwise_languages_sessions[s] = [(l1, l2) for i, l1 in enumerate(Languages_sessions[s]) \n",
    "                                          for l2 in Languages_sessions[s][i+1:]]\n",
    "\n",
    "    # Create index for variables\n",
    "    idx = [\n",
    "        (b, s, l, i)\n",
    "        for b in Blocks\n",
    "        for s in Sessions_blocks[b]\n",
    "        for l in Pairwise_languages_sessions[s]          # l = (l1,l2)\n",
    "        for i in Interpreters\n",
    "        if l[0] in Languages_interpreters[i] and l[1] in Languages_interpreters[i]\n",
    "    ]\n",
    "    # Create variables\n",
    "    #x[b, s, language, interpreter] = 1 if block b is assigned to session s with language l and interpreter i\n",
    "    assign = model.addVars(idx, vtype=GRB.BINARY)\n",
    " \n",
    "    session_covered = model.addVars(Sessions, vtype=GRB.BINARY)\n",
    "    # Add constraints\n",
    "    \n",
    "    #One interpreter can translate only one session at a time\n",
    "    for b in Blocks:\n",
    "        for i in Interpreters:\n",
    "            model.addConstr(assign.sum(b, '*', '*', i) <= 1)\n",
    "    \n",
    "    # Each session can have only one interpreter per language\n",
    "    for b in Blocks:\n",
    "        for s in Sessions_blocks[b]:\n",
    "            for l in Pairwise_languages_sessions[s]:\n",
    "                model.addConstr(assign.sum(b, s, l, '*') <= 1)\n",
    "            \n",
    "    #Session covered if all languages are covered\n",
    "    for s in Sessions:\n",
    "        total_languages = len(Pairwise_languages_sessions[s])\n",
    "        model.addConstr(session_covered[s] <= assign.sum('*', s, '*', '*') / total_languages)\n",
    "\n",
    "    #Max 15 hours per interpreter\n",
    "    for i in Interpreters:\n",
    "        model.addConstr(assign.sum('*', '*', '*', i) <= 15)\n",
    "    \n",
    "    # Max 3 sessions in a row per interpreter\n",
    "    for idx in range(len(Blocks) - 3):\n",
    "        window = Blocks[idx:idx + 4]\n",
    "        for i in Interpreters:\n",
    "            model.addConstr(assign.sum(window, '*', '*', i) <= 3)\n",
    "            \n",
    "    # Set objective\n",
    "    #Maximize the number of languages translated\n",
    "    #OBJ1\n",
    "    if OBJ_FUNC == 1:\n",
    "        model.setObjective(assign.sum('*', '*', '*', '*'), GRB.MAXIMIZE)\n",
    "    #\n",
    "    #Max the number of sessions translated\n",
    "    if OBJ_FUNC == 2:\n",
    "        model.setObjective(session_covered.sum('*'), GRB.MAXIMIZE)\n",
    "    return model"
   ]
  },
  {
   "cell_type": "markdown",
   "id": "b3c70390",
   "metadata": {},
   "source": [
    "## 3.Bridging"
   ]
  },
  {
   "cell_type": "markdown",
   "id": "03ef7632",
   "metadata": {},
   "source": [
    "In the model 3 we allowed bridging. This means that an 2 interpreters can be used to translate from l1 to l2 using a language they both speak l'. We had to change our formulation to meet this new challenge.\n",
    "First, we introduced a new variable $Y_{bsli_1i_2l'}$ which describes if there is a bridge between i_1 and i_2 for language the pair of language l using $l'$ to communicate. We had to change the objective function (OF1) with a new variable ($LC_{b, s,l}$)."
   ]
  },
  {
   "cell_type": "markdown",
   "id": "9ef82f2c",
   "metadata": {},
   "source": [
    "### OF1"
   ]
  },
  {
   "cell_type": "markdown",
   "id": "4f896458",
   "metadata": {},
   "source": [
    "\n",
    "$$ \\max \\sum_{b \\in B}\\sum_{s \\in S(b)}\\sum_{l \\in LP(s)} LC_{bsl} $$\n",
    "\n",
    "<b>Subject to:</b>\n",
    "\n",
    "One interpreter can translate only one session and only one pair of language at a time\n",
    "$$\n",
    "    \\sum_{s \\in S(b)}\\sum_{l \\in (LP(s) \\cap LP(i))} X_{bsli} \\leq 1 \\quad \\forall i, b\n",
    "$$\n",
    "\n",
    "An interpreter can only be part of one bridge at the time\n",
    "$$\n",
    "    \\sum_{i_2 \\gt i_1} \\sum_{l \\in LP(s)} \\sum_{l' \\in (LP(i_1) \\cap LP(i_2))} Y_{bsli_1i_2l'} \\leq 1 \\quad \\forall b, s, i_1 \n",
    "$$\n",
    "\n",
    "Link between bridge and assignments\n",
    "$$Y_{bsli_1i_2l'} \\leq X_{bs(l_1,l')i_1}$$\n",
    "$$Y_{bsli_1i_2l'} \\leq X_{bs(l_2,l')i_2}$$\n",
    "\n",
    "Each session can have only one interpreter per language pair\n",
    "$$ \n",
    "    \\sum_{i \\in I} X_{bsli} \\leq 1 \\quad\\forall b, s, l \n",
    "$$\n",
    "\n",
    "Language pair covered constraint\n",
    "$$\n",
    "    LC_{bsl} \\leq \\sum_{i \\in I} X_{bsli} + \\sum_{i_1 \\in I} \\sum_{i_2 \\gt i_1} Y_{bsli_1i_2l'} \\quad \\forall b, s, l\n",
    "$$"
   ]
  },
  {
   "cell_type": "markdown",
   "id": "4468c70c",
   "metadata": {},
   "source": [
    "### OF2"
   ]
  },
  {
   "cell_type": "markdown",
   "id": "ee59f598",
   "metadata": {},
   "source": [
    "Same formulation but we changed the constraint on the session covered by:\n",
    "$$\n",
    "    SC_{bs} \\leq \\frac{1}{|LP(s)|} \\sum_{l \\in LP(s)} LC_{bsl} \\quad \\forall b, s\n",
    "$$"
   ]
  },
  {
   "cell_type": "markdown",
   "id": "8a4338ea",
   "metadata": {},
   "source": [
    "### model 3"
   ]
  },
  {
   "cell_type": "code",
   "execution_count": 4,
   "id": "f5b7a80a",
   "metadata": {},
   "outputs": [],
   "source": [
    "def Model_3(data, OBJ_FUNC=1):\n",
    "    #Bridge implementation\n",
    "    model = gp.Model(\"model with bridge\")\n",
    "    \n",
    "    #unpack data\n",
    "    Blocks = data[\"Blocks\"]\n",
    "    Sessions = data[\"Sessions\"]\n",
    "    Sessions_blocks = data[\"Sessions_b\"]\n",
    "    Interpreters = data[\"Interpreters\"]\n",
    "    Languages = data[\"Languages\"]\n",
    "    Languages_sessions = data[\"Languages_s\"]\n",
    "    Languages_interpreters = data[\"Languages_i\"]\n",
    "\n",
    "    #Generate the pairwise combinations of languages\n",
    "    Pairwise_languages_sessions = Languages_sessions.copy()\n",
    "    for s in Sessions:\n",
    "        Pairwise_languages_sessions[s] = [tuple(sorted((l1, l2))) for i, l1 in enumerate(Languages_sessions[s]) \n",
    "                                          for l2 in Languages_sessions[s][i+1:]]\n",
    "\n",
    "    Pairwise_languages = Languages.copy()\n",
    "    Pairwise_languages = [tuple(sorted((l1, l2))) for i, l1 in enumerate(Languages) \n",
    "                                          for l2 in Languages[i+1:]]\n",
    "    \n",
    "    # Create index for variables\n",
    "    idx = [\n",
    "        (b, s, l, i)\n",
    "        for b in Blocks\n",
    "        for s in Sessions_blocks[b]\n",
    "        for l in Pairwise_languages         # l = (l1,l2)\n",
    "        for i in Interpreters\n",
    "        if l[0] in Languages_interpreters[i] and l[1] in Languages_interpreters[i]\n",
    "    ]\n",
    "\n",
    "    # Create variables\n",
    "    #x[b, s, language, interpreter] = 1 if block b is assigned to session s with language l and interpreter i\n",
    "    assign = model.addVars(idx, vtype=GRB.BINARY)\n",
    "    session_covered = model.addVars(Sessions, vtype=GRB.BINARY)\n",
    "\n",
    "    # Create index for coverage variables\n",
    "    idx_coverage = [\n",
    "        (b, s, l)\n",
    "        for b in Blocks\n",
    "        for s in Sessions_blocks[b]\n",
    "        for l in Pairwise_languages_sessions[s]\n",
    "    ]\n",
    "\n",
    "    #language pair covered\n",
    "    cover_language_pair = model.addVars(idx_coverage, vtype=GRB.BINARY)\n",
    "\n",
    "    # create index for bridge variables\n",
    "    idx_bridge = []\n",
    "    for b in Blocks:\n",
    "        for s in Sessions_blocks[b]:\n",
    "            for l1, l2 in Pairwise_languages_sessions[s]:\n",
    "                # interpreters that can cover each endpoint\n",
    "                I_l1 = [i for i in Interpreters if l1 in Languages_interpreters[i]]\n",
    "                I_l2 = [i for i in Interpreters if l2 in Languages_interpreters[i]]\n",
    "\n",
    "                for i1 in I_l1:\n",
    "                    for i2 in I_l2:\n",
    "                        if i1 >= i2:        # avoid i1=i2 and duplicates (i2,i1)\n",
    "                            continue\n",
    "                        common = (set(Languages_interpreters[i1])\n",
    "                                & set(Languages_interpreters[i2])\n",
    "                                - {l1, l2})\n",
    "                        for l_p in common:\n",
    "                            idx_bridge.append((b, s, tuple(sorted((l1, l2))), i1, i2, l_p))\n",
    "\n",
    "\n",
    "    bridge = model.addVars(idx_bridge, vtype=GRB.BINARY)\n",
    "                \n",
    "    # Add constraints\n",
    "    for (b, s, (l1, l2), i1, i2, l_p) in idx_bridge:\n",
    "        # canonical ordering of language pairs\n",
    "        pair1 = tuple(sorted((l1, l_p)))\n",
    "        pair2 = tuple(sorted((l2, l_p)))\n",
    "\n",
    "        model.addConstr(bridge[b, s, (l1, l2), i1, i2, l_p] <= assign[b, s, pair1, i1])\n",
    "        model.addConstr(bridge[b, s, (l1, l2), i1, i2, l_p] <= assign[b, s, pair2, i2])\n",
    "                                                          \n",
    "    #Interpreter only does one bridge                                \n",
    "    for b in Blocks:\n",
    "        for s in Sessions_blocks[b]:\n",
    "            for i in Interpreters:\n",
    "                model.addConstr(bridge.sum(b, s, '*', i, '*', '*') <= 1)\n",
    "    \n",
    "    #Interpreter must speak the language              \n",
    "    #One interpreter can translate only one session at a time\n",
    "    for b in Blocks:\n",
    "        for i in Interpreters:\n",
    "            model.addConstr(assign.sum(b, '*', '*', i) <= 1)\n",
    "    \n",
    "    # Each session can have only one interpreter per language\n",
    "    for b in Blocks:\n",
    "        for s in Sessions_blocks[b]:\n",
    "            for l in Pairwise_languages_sessions[s]:\n",
    "                model.addConstr(assign.sum(b, s, l, '*') <= 1)\n",
    "            \n",
    "\n",
    "    #Max 15 hours per interpreter\n",
    "    for i in Interpreters:\n",
    "        model.addConstr(assign.sum('*', '*', '*', i) <= 15)\n",
    "    \n",
    "   # Max 3 sessions in a row per interpreter\n",
    "    for idx in range(len(Blocks) - 3):\n",
    "        window = Blocks[idx:idx + 4]\n",
    "        for i in Interpreters:\n",
    "            model.addConstr(assign.sum(window, '*', '*', i) <= 3)\n",
    "\n",
    "    #language pair covered if at one interpreter is assigned to it or there is a bridge\n",
    "    for b in Blocks:\n",
    "        for s in Sessions_blocks[b]:\n",
    "            for l in Pairwise_languages_sessions[s]:\n",
    "                model.addConstr(cover_language_pair[b, s, l] <= gp.quicksum(\n",
    "                    assign[b, s, l, i] for i in Interpreters if (b, s, l, i) in assign)\n",
    "                    + gp.quicksum(\n",
    "                        bridge[b, s, l, i1, i2, l_p] \n",
    "                        for i1 in Interpreters \n",
    "                        for i2 in Interpreters \n",
    "                        for l_p in Languages_interpreters[i1]\n",
    "                        if (b, s, l, i1, i2, l_p) in bridge\n",
    "                ))\n",
    "                \n",
    "    #Session covered if all languages pairs are covered\n",
    "    for b in Blocks:\n",
    "        for s in Sessions_blocks[b]:\n",
    "            total_languages = len(Pairwise_languages_sessions[s])\n",
    "            model.addConstr(session_covered[s] <= cover_language_pair.sum(b, s, '*') / total_languages)\n",
    "\n",
    "    # Set objective\n",
    "    #Maximize the number of languages translated\n",
    "    #OBJ1\n",
    "    if OBJ_FUNC == 1:\n",
    "        model.setObjective(cover_language_pair.sum('*', '*', '*'), GRB.MAXIMIZE)\n",
    "    #\n",
    "    #Max the number of sessions translated\n",
    "    if OBJ_FUNC == 2:\n",
    "        model.setObjective(session_covered.sum('*'), GRB.MAXIMIZE)\n",
    "    return model"
   ]
  },
  {
   "cell_type": "markdown",
   "id": "45fa0e53",
   "metadata": {},
   "source": [
    "# Results"
   ]
  },
  {
   "cell_type": "markdown",
   "id": "17380380",
   "metadata": {},
   "source": [
    "### Verification"
   ]
  },
  {
   "cell_type": "markdown",
   "id": "a55a7dbb",
   "metadata": {},
   "source": [
    "#### Model 1"
   ]
  },
  {
   "cell_type": "code",
   "execution_count": null,
   "id": "c683c8a9",
   "metadata": {},
   "outputs": [],
   "source": [
    "with open(r\"instances\\example.json\", \"r\") as file:\n",
    "    data_bridge = json.load(file)\n",
    "\n",
    "model = Model_1(data_bridge, OBJ_FUNC=1)\n",
    "model.optimize()"
   ]
  },
  {
   "cell_type": "code",
   "execution_count": null,
   "id": "31908012",
   "metadata": {},
   "outputs": [],
   "source": [
    "with open(r\"instances\\example.json\", \"r\") as file:\n",
    "    data_bridge = json.load(file)\n",
    "\n",
    "model = Model_1(data_bridge, OBJ_FUNC=2)\n",
    "model.optimize()"
   ]
  },
  {
   "cell_type": "markdown",
   "id": "4c3079c6",
   "metadata": {},
   "source": [
    "#### Model 2"
   ]
  },
  {
   "cell_type": "code",
   "execution_count": null,
   "id": "55f66692",
   "metadata": {},
   "outputs": [],
   "source": [
    "with open(r\"instances\\example.json\", \"r\") as file:\n",
    "    data_bridge = json.load(file)\n",
    "\n",
    "model = Model_2(data_bridge, OBJ_FUNC=1)\n",
    "model.optimize()"
   ]
  },
  {
   "cell_type": "code",
   "execution_count": null,
   "id": "203bb47b",
   "metadata": {},
   "outputs": [],
   "source": [
    "with open(r\"instances\\example.json\", \"r\") as file:\n",
    "    data_bridge = json.load(file)\n",
    "\n",
    "model = Model_2(data_bridge, OBJ_FUNC=2)\n",
    "model.optimize()"
   ]
  },
  {
   "cell_type": "markdown",
   "id": "7ce8cfe7",
   "metadata": {},
   "source": [
    "#### Model 3"
   ]
  },
  {
   "cell_type": "code",
   "execution_count": null,
   "id": "64c32b34",
   "metadata": {},
   "outputs": [],
   "source": [
    "with open(r\"instances\\example.json\", \"r\") as file:\n",
    "    data_bridge = json.load(file)\n",
    "\n",
    "model = Model_3(data_bridge, OBJ_FUNC=1)\n",
    "model.optimize()"
   ]
  },
  {
   "cell_type": "code",
   "execution_count": null,
   "id": "d931b504",
   "metadata": {},
   "outputs": [],
   "source": [
    "with open(r\"instances\\example.json\", \"r\") as file:\n",
    "    data_bridge = json.load(file)\n",
    "\n",
    "model = Model_3(data_bridge, OBJ_FUNC=2)\n",
    "model.optimize()"
   ]
  },
  {
   "cell_type": "markdown",
   "id": "86a38976",
   "metadata": {},
   "source": [
    "Model 1 and 2 get the same results while model 3 can achieve a better solution thanks to the bridging mechanism."
   ]
  },
  {
   "cell_type": "markdown",
   "id": "5431faa3",
   "metadata": {},
   "source": [
    "### Calculations"
   ]
  },
  {
   "cell_type": "code",
   "execution_count": null,
   "id": "14b1172b",
   "metadata": {},
   "outputs": [
    {
     "name": "stdout",
     "output_type": "stream",
     "text": [
      "+++++++++++++++ Starting instance example with 3 models +++++++++++++++\n",
      "------------------- Starting instance example with model Basic -------------------\n",
      "Set parameter Username\n",
      "Set parameter LicenseID to value 2678447\n",
      "Academic license - for non-commercial use only - expires 2026-06-16\n",
      "Building model Basic for instance example...\n",
      "Optimizing model Basic for instance example...\n",
      "Model Basic for instance example solved → OF1: 3.0, Runtime: 0.0, MIPGap: 0.0\n",
      "Building model Basic for instance example with objective 2...\n",
      "Optimizing model Basic for instance example with objective 2...\n",
      "Model Basic for instance example with objective 2 solved → OF2: 1.0, Runtime: 0.0, MIPGap: 0.0\n",
      "----------------------------------------------------------------------------\n",
      "\n",
      "------------------- Starting instance example with model Operational -------------------\n",
      "Set parameter Username\n",
      "Set parameter LicenseID to value 2678447\n",
      "Academic license - for non-commercial use only - expires 2026-06-16\n",
      "Building model Operational for instance example...\n",
      "Optimizing model Operational for instance example...\n",
      "Model Operational for instance example solved → OF1: 3.0, Runtime: 0.0, MIPGap: 0.0\n",
      "Building model Operational for instance example with objective 2...\n",
      "Optimizing model Operational for instance example with objective 2...\n",
      "Model Operational for instance example with objective 2 solved → OF2: 1.0, Runtime: 0.0, MIPGap: 0.0\n",
      "----------------------------------------------------------------------------\n",
      "\n",
      "------------------- Starting instance example with model Bridging -------------------\n",
      "Set parameter Username\n",
      "Set parameter LicenseID to value 2678447\n",
      "Academic license - for non-commercial use only - expires 2026-06-16\n",
      "Building model Bridging for instance example...\n",
      "Optimizing model Bridging for instance example...\n",
      "Model Bridging for instance example solved → OF1: 4.0, Runtime: 0.0, MIPGap: 0.0\n",
      "Building model Bridging for instance example with objective 2...\n",
      "Optimizing model Bridging for instance example with objective 2...\n",
      "Model Bridging for instance example with objective 2 solved → OF2: 2.0, Runtime: 0.0009999275207519531, MIPGap: 0.0\n",
      "----------------------------------------------------------------------------\n",
      "\n",
      "+++++++++++++++++++++++++++++++++++++++++++++++++++++++++++++++++++++\n",
      "\n",
      "+++++++++++++++ Starting instance isp-S200-I120 with 3 models +++++++++++++++\n",
      "------------------- Starting instance isp-S200-I120 with model Basic -------------------\n",
      "Set parameter Username\n",
      "Set parameter LicenseID to value 2678447\n",
      "Academic license - for non-commercial use only - expires 2026-06-16\n",
      "Building model Basic for instance isp-S200-I120...\n",
      "Optimizing model Basic for instance isp-S200-I120...\n",
      "Model Basic for instance isp-S200-I120 solved → OF1: 4495.0, Runtime: 0.023999929428100586, MIPGap: 0.0\n",
      "Building model Basic for instance isp-S200-I120 with objective 2...\n",
      "Optimizing model Basic for instance isp-S200-I120 with objective 2...\n",
      "Model Basic for instance isp-S200-I120 with objective 2 solved → OF2: 66.0, Runtime: 0.05200004577636719, MIPGap: 0.0\n",
      "----------------------------------------------------------------------------\n",
      "\n",
      "------------------- Starting instance isp-S200-I120 with model Operational -------------------\n",
      "Set parameter Username\n",
      "Set parameter LicenseID to value 2678447\n",
      "Academic license - for non-commercial use only - expires 2026-06-16\n",
      "Building model Operational for instance isp-S200-I120...\n",
      "Optimizing model Operational for instance isp-S200-I120...\n",
      "Model Operational for instance isp-S200-I120 solved → OF1: 1800.0, Runtime: 0.0840001106262207, MIPGap: 0.0\n",
      "Building model Operational for instance isp-S200-I120 with objective 2...\n",
      "Optimizing model Operational for instance isp-S200-I120 with objective 2...\n",
      "Model Operational for instance isp-S200-I120 with objective 2 solved → OF2: 63.0, Runtime: 0.38299989700317383, MIPGap: 0.0\n",
      "----------------------------------------------------------------------------\n",
      "\n",
      "------------------- Starting instance isp-S200-I120 with model Bridging -------------------\n",
      "Set parameter Username\n",
      "Set parameter LicenseID to value 2678447\n",
      "Academic license - for non-commercial use only - expires 2026-06-16\n",
      "Building model Bridging for instance isp-S200-I120...\n",
      "Optimizing model Bridging for instance isp-S200-I120...\n"
     ]
    }
   ],
   "source": [
    "# ------------------------------------------------------------\n",
    "# 0) Where are your JSON instances?\n",
    "# ------------------------------------------------------------\n",
    "INST_DIR = r\"instances\"\n",
    "instance_files = sorted(glob.glob(os.path.join(INST_DIR, \"*.json\")))\n",
    "\n",
    "# ------------------------------------------------------------\n",
    "# 1) Map a model-name to the *function* that builds it\n",
    "# ------------------------------------------------------------\n",
    "model_builders = {\n",
    "    \"Basic\"      : Model_1,     # def Model(...)\n",
    "    \"Operational\": Model_2,   # def Model_2(...)\n",
    "    \"Bridging\"   : Model_3,   # def Model_3(...)\n",
    "}\n",
    "\n",
    "# ------------------------------------------------------------\n",
    "# 2) Solve everything and fill `records`\n",
    "# ------------------------------------------------------------\n",
    "records = []   # this is what the plotting cell will consume\n",
    "\n",
    "for f in instance_files:\n",
    "    with open(f) as fp:\n",
    "        data = json.load(fp)\n",
    "    inst = os.path.splitext(os.path.basename(f))[0]   # e.g. \"isp-S40-I30\"\n",
    "\n",
    "    print(f\"+++++++++++++++ Starting instance {inst} with {len(model_builders)} models +++++++++++++++\")\n",
    "    for mname, build in model_builders.items():\n",
    "        try:\n",
    "            print(f\"------------------- Starting instance {inst} with model {mname} -------------------\")\n",
    "            gp.setParam(\"OutputFlag\", 0)  # suppress output\n",
    "\n",
    "            print(f\"Building model {mname} for instance {inst}...\")\n",
    "            m1 = build(data, OBJ_FUNC=1)\n",
    "            m1.setParam(GRB.Param.TimeLimit, 600)\n",
    "\n",
    "            print(f\"Optimizing model {mname} for instance {inst}...\")\n",
    "            m1.optimize()\n",
    "            of1 = m1.objVal\n",
    "            runtime_1 = m1.Runtime\n",
    "            mipgap_1 = m1.MIPGap\n",
    "\n",
    "            m1.dispose()  # free resources\n",
    "            print(f\"Model {mname} for instance {inst} solved → OF1: {of1}, Runtime: {runtime_1}, MIPGap: {mipgap_1}\")\n",
    "            # --- objective 2 ----------------------------------------------------\n",
    "            print(f\"Building model {mname} for instance {inst} with objective 2...\")\n",
    "            m2 = build(data, OBJ_FUNC=2)\n",
    "            m2.setParam(GRB.Param.TimeLimit, 600)\n",
    "\n",
    "            print(f\"Optimizing model {mname} for instance {inst} with objective 2...\")\n",
    "            m2.optimize()\n",
    "            of2 = m2.objVal\n",
    "            runtime_2 = m2.Runtime\n",
    "            mipgap_2 = m2.MIPGap\n",
    "\n",
    "            m2.dispose()  # free resources\n",
    "            print(f\"Model {mname} for instance {inst} with objective 2 solved → OF2: {of2}, Runtime: {runtime_2}, MIPGap: {mipgap_2}\")\n",
    "            # --- store ----------------------------------------------------------\n",
    "            records.append({\n",
    "                \"instance\": inst,\n",
    "                \"model\"   : mname,\n",
    "                \"OF1\"     : of1,\n",
    "                \"OF2\"     : of2,\n",
    "                \"runtime_1\": runtime_1,\n",
    "                \"runtime_2\": runtime_2,\n",
    "                \"MIPgap_1\": mipgap_1,\n",
    "                \"MIPgap_2\": mipgap_2,\n",
    "            })\n",
    "\n",
    "            gp.disposeDefaultEnv()\n",
    "            print(f\"----------------------------------------------------------------------------\\n\")\n",
    "        except:\n",
    "            print(f\"Error solving {inst} with model {mname}. Skipping...\")\n",
    "            continue\n",
    "    print(f\"+++++++++++++++++++++++++++++++++++++++++++++++++++++++++++++++++++++\\n\")"
   ]
  },
  {
   "cell_type": "markdown",
   "id": "65e7454e",
   "metadata": {},
   "source": [
    "### Plots"
   ]
  },
  {
   "cell_type": "code",
   "execution_count": null,
   "metadata": {},
   "outputs": [
    {
     "data": {
      "image/png": "[encoded data removed]",
      "text/plain": [
       "<Figure size 800x600 with 1 Axes>"
      ]
     },
     "metadata": {},
     "output_type": "display_data"
    },
    {
     "data": {
      "image/png": "[encoded data removed]",
      "text/plain": [
       "<Figure size 800x600 with 1 Axes>"
      ]
     },
     "metadata": {},
     "output_type": "display_data"
    },
    {
     "data": {
      "image/png": "[encoded data removed]",
      "text/plain": [
       "<Figure size 800x600 with 1 Axes>"
      ]
     },
     "metadata": {},
     "output_type": "display_data"
    },
    {
     "name": "stderr",
     "output_type": "stream",
     "text": [
      "C:\\Users\\wasal\\AppData\\Local\\Temp\\ipykernel_7140\\4030730256.py:202: UserWarning: Data has no positive values, and therefore cannot be log-scaled.\n",
      "  ax.set_xscale(\"log\");  ax.set_yscale(\"log\")\n"
     ]
    },
    {
     "data": {
      "image/png": "[encoded data removed]",
      "text/plain": [
       "<Figure size 600x400 with 1 Axes>"
      ]
     },
     "metadata": {},
     "output_type": "display_data"
    }
   ],
   "source": [
    "# ------------------------------------------------------------\n",
    "# 1) Turn the raw list of dicts into a tidy DataFrame\n",
    "# ------------------------------------------------------------\n",
    "df = pd.DataFrame(records)\n",
    "models_order = [\"Basic\", \"Operational\", \"Bridging\"]  # desired order on X-axis\n",
    "df[\"model\"] = pd.Categorical(df[\"model\"], categories=models_order, ordered=True)\n",
    "\n",
    "# ------------------------------------------------------------\n",
    "# 2) Objective function plots\n",
    "# ------------------------------------------------------------\n",
    "objective_functions_path = \"plots/objective_functions\"\n",
    "# 2.1) A bar chart for each instance \n",
    "for inst, sub in df.groupby(\"instance\", sort=False):\n",
    "    fig, ax = plt.subplots(figsize=(6, 4))\n",
    "\n",
    "    # bar positions – two bars per model\n",
    "    x_base = np.arange(len(models_order))\n",
    "    width   = 0.35                      # width of a single bar\n",
    "    bar1_x  = x_base - width/2          # OF1 bars (left)\n",
    "    bar2_x  = x_base + width/2          # OF2 bars (right)\n",
    "\n",
    "    # heights for the bars\n",
    "    of1_vals = sub.set_index(\"model\")[\"OF1\"].reindex(models_order) / sub[\"OF1\"].max()  # normalize to max value for better visibility\n",
    "    of2_vals = sub.set_index(\"model\")[\"OF2\"].reindex(models_order) / sub[\"OF2\"].max()  # normalize to max value for better visibility\n",
    "\n",
    "    ax.bar(bar1_x, of1_vals, width, label=\"OF1\")\n",
    "    ax.bar(bar2_x, of2_vals, width, label=\"OF2\")\n",
    "\n",
    "    # cosmetics -----------------------------------------------------\n",
    "    ax.set_title(f\"Scores for instance {inst}\")\n",
    "    ax.set_xticks(x_base)\n",
    "    ax.set_xticklabels(models_order, rotation=15)\n",
    "    ax.set_ylabel(\"objective value\")\n",
    "    ax.legend()\n",
    "\n",
    "    plt.tight_layout()\n",
    "    # Save the figure\n",
    "    plt.savefig(f\"{objective_functions_path}/{inst}.png\", dpi=150, bbox_inches=\"tight\")\n",
    "    plt.close(fig)  \n",
    "\n",
    "# 2.2) A bar chart for the average scores\n",
    "fig, ax = plt.subplots(figsize=(8, 6))\n",
    "\n",
    "# bar positions – two bars per model\n",
    "x_base = np.arange(len(models_order))\n",
    "width   = 0.35                      # width of a single bar\n",
    "bar1_x  = x_base - width/2          # OF1 bars (left)\n",
    "bar2_x  = x_base + width/2          # OF2 bars (right)\n",
    "\n",
    "# heights for the bars\n",
    "of1_vals = df.groupby(\"model\", observed=True)[\"OF1\"].mean().reindex(models_order) / df[\"OF1\"].max()  # normalize to max value for better visibility\n",
    "of2_vals = df.groupby(\"model\", observed=True)[\"OF2\"].mean().reindex(models_order) / df[\"OF2\"].max()  # normalize to max value for better visibility\n",
    "ax.bar(bar1_x, of1_vals, width, label=\"OF1\")\n",
    "ax.bar(bar2_x, of2_vals, width, label=\"OF2\")\n",
    "\n",
    "# cosmetics -----------------------------------------------------\n",
    "ax.set_title(\"Average scores for all instances\")\n",
    "ax.set_xticks(x_base)\n",
    "ax.set_xticklabels(models_order, rotation=15)\n",
    "ax.set_ylabel(\"objective value\")\n",
    "ax.legend()\n",
    "\n",
    "plt.tight_layout()\n",
    "# Save the figure\n",
    "plt.savefig(f\"{objective_functions_path}/average_scores.png\", dpi=150, bbox_inches=\"tight\")\n",
    "plt.show()\n",
    "\n",
    "# ------------------------------------------------------------\n",
    "# 4) MIP gaps plots\n",
    "# ------------------------------------------------------------\n",
    "mip_gaps_path = \"plots/mip_gaps\"\n",
    "\n",
    "# 4.1) A bar chart for each instance\n",
    "for inst, sub in df.groupby(\"instance\", sort=False):\n",
    "    fig, ax = plt.subplots(figsize=(6, 4))\n",
    "\n",
    "    # bar positions – two bars per model\n",
    "    x_base = np.arange(len(models_order))\n",
    "    width   = 0.35                      # width of a single bar\n",
    "    bar1_x  = x_base - width/2          # MIP gap OF1 bars (left)\n",
    "    bar2_x  = x_base + width/2          # MIP gap OF2 bars (right)\n",
    "\n",
    "    # heights for the bars\n",
    "    mipgap1_vals = sub.set_index(\"model\")[\"MIPgap_1\"].reindex(models_order)\n",
    "    mipgap2_vals = sub.set_index(\"model\")[\"MIPgap_2\"].reindex(models_order)\n",
    "\n",
    "    ax.bar(bar1_x, mipgap1_vals, width, label=\"MIP gap OF1\")\n",
    "    ax.bar(bar2_x, mipgap2_vals, width, label=\"MIP gap OF2\")\n",
    "\n",
    "    # cosmetics -----------------------------------------------------\n",
    "    ax.set_title(f\"MIP gaps for instance {inst}\")\n",
    "    ax.set_xticks(x_base)\n",
    "    ax.set_xticklabels(models_order, rotation=15)\n",
    "    ax.set_ylabel(\"MIP gap\")\n",
    "    ax.legend()\n",
    "\n",
    "    plt.tight_layout()\n",
    "    # Save the figure\n",
    "    plt.savefig(f\"{mip_gaps_path}/mip_gap_{inst}.png\", dpi=150, bbox_inches=\"tight\")\n",
    "    plt.close(fig)\n",
    "\n",
    "# 4.2) A bar chart for the average MIP gaps \n",
    "\n",
    "fig, ax = plt.subplots(figsize=(8, 6))\n",
    "\n",
    "# bar positions – two bars per model\n",
    "x_base = np.arange(len(models_order))\n",
    "width   = 0.35                      # width of a single bar\n",
    "bar1_x  = x_base - width/2          # MIP gap OF1 bars (left)\n",
    "bar2_x  = x_base + width/2          # MIP gap OF2 bars (right)\n",
    "\n",
    "# heights for the bars\n",
    "mipgap1_vals = df.groupby(\"model\", observed=True)[\"MIPgap_1\"].mean().reindex(models_order)\n",
    "mipgap2_vals = df.groupby(\"model\", observed=True)[\"MIPgap_2\"].mean().reindex(models_order)\n",
    "ax.bar(bar1_x, mipgap1_vals, width, label=\"MIP gap OF1\")\n",
    "ax.bar(bar2_x, mipgap2_vals, width, label=\"MIP gap OF2\")\n",
    "\n",
    "# cosmetics -----------------------------------------------------\n",
    "ax.set_title(\"Average MIP gaps for all instances\")\n",
    "ax.set_xticks(x_base)\n",
    "ax.set_xticklabels(models_order, rotation=15)\n",
    "ax.set_ylabel(\"MIP gap\")\n",
    "ax.legend()\n",
    "\n",
    "plt.tight_layout()\n",
    "# Save the figure\n",
    "plt.savefig(f\"{mip_gaps_path}/average_mip_gaps.png\", dpi=150, bbox_inches=\"tight\")\n",
    "plt.show()\n",
    "\n",
    "# ------------------------------------------------------------\n",
    "# 5) Runtime plots\n",
    "# ------------------------------------------------------------\n",
    "runtime_path = \"plots/runtime\"\n",
    "\n",
    "# 5.1) A bar chart for each instance\n",
    "for inst, sub in df.groupby(\"instance\", sort=False):\n",
    "    fig, ax = plt.subplots(figsize=(6, 4))\n",
    "\n",
    "    # bar positions – two bars per model\n",
    "    x_base = np.arange(len(models_order))\n",
    "    width   = 0.35                      # width of a single bar\n",
    "    bar1_x  = x_base - width/2          # runtime OF1 bars (left)\n",
    "    bar2_x  = x_base + width/2          # runtime OF2 bars (right)\n",
    "\n",
    "    # heights for the bars\n",
    "    rt1_vals = sub.set_index(\"model\")[\"runtime_1\"].reindex(models_order)\n",
    "    rt2_vals = sub.set_index(\"model\")[\"runtime_2\"].reindex(models_order)\n",
    "\n",
    "    ax.bar(bar1_x, rt1_vals, width, label=\"Runtime OF1\")\n",
    "    ax.bar(bar2_x, rt2_vals, width, label=\"Runtime OF2\")\n",
    "\n",
    "    # cosmetics -----------------------------------------------------\n",
    "    ax.set_title(f\"Runtimes for instance {inst}\")\n",
    "    ax.set_xticks(x_base)\n",
    "    ax.set_xticklabels(models_order, rotation=15)\n",
    "    ax.set_ylabel(\"runtime (s)\")\n",
    "    ax.legend()\n",
    "\n",
    "    plt.tight_layout()\n",
    "    # Save the figure\n",
    "    plt.savefig(f\"{runtime_path}/runtime_{inst}.png\", dpi=150, bbox_inches=\"tight\")\n",
    "    plt.close(fig)\n",
    "\n",
    "# 5.2) A bar chart for the average runtimes\n",
    "fig, ax = plt.subplots(figsize=(8, 6))\n",
    "\n",
    "# bar positions – two bars per model\n",
    "x_base = np.arange(len(models_order))\n",
    "width   = 0.35                      # width of a single bar\n",
    "bar1_x  = x_base - width/2          # runtime OF1 bars (left)\n",
    "bar2_x  = x_base + width/2          # runtime OF2 bars (right)\n",
    "# heights for the bars\n",
    "rt1_vals = df.groupby(\"model\", observed=True)[\"runtime_1\"].mean().reindex(models_order)\n",
    "rt2_vals = df.groupby(\"model\", observed=True)[\"runtime_2\"].mean().reindex(models_order)\n",
    "ax.bar(bar1_x, rt1_vals, width, label=\"Runtime OF1\")\n",
    "ax.bar(bar2_x, rt2_vals, width, label=\"Runtime OF2\")\n",
    "# cosmetics -----------------------------------------------------\n",
    "ax.set_title(\"Average runtimes for all instances\")\n",
    "ax.set_xticks(x_base)\n",
    "ax.set_xticklabels(models_order, rotation=15)\n",
    "ax.set_ylabel(\"runtime (s)\")\n",
    "ax.legend()\n",
    "plt.tight_layout()\n",
    "# Save the figure\n",
    "plt.savefig(f\"{runtime_path}/average_runtime.png\", dpi=150, bbox_inches=\"tight\")\n",
    "plt.show()"
   ]
  },
  {
   "cell_type": "markdown",
   "id": "7010b57c",
   "metadata": {},
   "source": [
    "# Conclusion"
   ]
  },
  {
   "cell_type": "markdown",
   "id": "f3bf6b33",
   "metadata": {},
   "source": [
    "In this notebook, we explored the Interpreter Scheduling Problem (ISP) by formulating mathematical models and analyzing their performance on various instances. Through the use of integer programming and advanced mechanisms such as bridging, we demonstrated how interpreters can be efficiently assigned to maximize language coverage while respecting operational constraints.\n",
    "\n",
    "The first two models performed well on small and big instances achieving expected results, model 1 outperformed model 2 because it has less constraints. However, model 2 is more realistic as it takes into account the operational constraints of the interpreters (acceptable working hours).\n",
    "\n",
    "Model 3 introduced the concept of bridging, allowing for indirect language connections. This model showed promising results, achieving a higher score than the model 2 but still not as high as model 1 (in most cases). However, due to the complexity of the model, the time limit (600 second) was reached in some cases before finding the optimal solution. For some reason when generating all of the results \"gurobi\" bugs out when the time limit is reached on OF1 the solver stops prematuraly and does not return the best solution for OF2."
   ]
  }
 ],
 "metadata": {
  "kernelspec": {
   "display_name": "Python 3",
   "language": "python",
   "name": "python3"
  },
  "language_info": {
   "codemirror_mode": {
    "name": "ipython",
    "version": 3
   },
   "file_extension": ".py",
   "mimetype": "text/x-python",
   "name": "python",
   "nbconvert_exporter": "python",
   "pygments_lexer": "ipython3",
   "version": "3.12.2"
  }
 },
 "nbformat": 4,
 "nbformat_minor": 5
}
