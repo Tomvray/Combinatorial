{
 "cells": [
  {
   "cell_type": "markdown",
   "id": "720abe64",
   "metadata": {},
   "source": [
    "# Introduction\n",
    " \n",
    "Interpreter Scheduling Problems (ISP) are increasingly relevant in today’s globalized and multicultural society. These problems arise in various critical domains such as healthcare, legal systems, and international or urban institutional meetings, where multilingual communication is essential for effective interaction. Poor scheduling or mismanagement of interpreters can lead to serious consequences: for example, a patient might be unable to accurately describe their symptoms during a medical consultation, potentially endangering their life. In legal or political contexts, miscommunication due to interpreter shortages or mismatches can result in misunderstandings, delays, or even violations of fundamental rights.\n",
    " \n",
    "Effective interpreter scheduling is a complex task that must balance interpreter availability, language coverage, fairness of workload distribution, and institutional constraints. Unlike automated translation systems which are not yet 100% reliable and often fail to capture nuance in real-time spoken interaction human to interpreters remain essential in high-stakes or sensitive environments. Thus, the goal is to develop robust schedules that maximize language pair coverage while also being flexible enough to handle unforeseen events such as sudden changes in availability or last-minute session modifications.\n",
    " \n",
    "Several research papers have addressed interpreter scheduling problems by proposing various mathematical and algorithmic approaches, including integer programming, stochastic modeling, and heuristic optimization.\n",
    " \n",
    "In this work, our objective is to explore and solve a realistic Interpreters Scheduling Problem (ISP). The setting involves a group of interpreters working for an institution, each proficient in a specific set of languages. These interpreters must be assigned to various sessions (grouped in blocks), where speakers communicate exclusively in their native languages. Interpreters are essential to ensure mutual understanding between participants. The main goal is to maximize the coverage of language pairs across all sessions, while respecting a range of logical and operational constraints. Additionally, we investigate advanced mechanisms such as bridging, which allows interpreters to indirectly connect languages through a shared intermediary."
   ]
  },
  {
   "cell_type": "markdown",
   "metadata": {},
   "source": [
    "# Formulation"
   ]
  },
  {
   "cell_type": "markdown",
   "id": "4ac933f9",
   "metadata": {
    "vscode": {
     "languageId": "plaintext"
    }
   },
   "source": [
    "## Parameters\n",
    "<div style=\"display: flex; flex-wrap: wrap;\">\n",
    "\n",
    "<div style=\"flex: 1; min-width: 300px;\">\n",
    "\n",
    "- **I**: Set of interpreters  \n",
    "- **L**: Set of languages spoken  \n",
    "- **L<sub>i</sub>** ⊆ **L**: Set of languages spoken by interpreter *i*  \n",
    "\n",
    "</div>\n",
    "<div style=\"flex: 1; min-width: 300px;\">\n",
    "\n",
    "- **B**: Set of one-hour blocks (|B| = 40)  \n",
    "- **S<sub>b</sub>**: Set of simultaneous sessions during block *b* (held in different rooms)  \n",
    "- **S**: Full set of sessions  \n",
    "- **U<sub>s</sub>**: Set of languages used in session *s*\n",
    "\n",
    "</div>\n",
    "</div>\n"
   ]
  },
  {
   "cell_type": "markdown",
   "id": "6473498f",
   "metadata": {},
   "source": [
    "\n",
    "## 1.Simple IP\n",
    "### OF1 Maximize the total number of language pairs covered over all the sessions.\n",
    "In order to maximize the total number of languages pairs covered:\n",
    "$$ \\max \\sum_{b \\in B}\\sum_{s \\in S(b)}\\sum_{l \\in LP(s)} \\sum_{i\\in I} X_{bsli} $$\n",
    "\n",
    "<b>Subject to:</b>\n",
    "\n",
    "$$\\begin{equation}\n",
    "    X_{bsli} = 0 \\quad \\text{if} \\quad l\\notin L_i, \\quad \\forall b, s, l, i\n",
    "\\end{equation} $$\n",
    "*This constraint ensures that an interpreter can only be assigned to language pairs they actually speak.*\n",
    "\n",
    "$$\\begin{equation}\n",
    "    \\sum_{s \\in S(b)}\\sum_{l \\in LP(s)} X_{bsli} \\leq 1 \\quad \\forall i, b\n",
    "\\end{equation}$$\n",
    "*Each interpreter can be assigned to at most one session and one language pair per block, preventing double-booking.*\n",
    "\n",
    "$$\\begin{equation} \n",
    "    \\sum_{i \\in I} X_{bsli} \\leq 1 \\quad\\forall b, s, l \n",
    "\\end{equation}$$\n",
    "*Each language pair in a session can be covered by at most one interpreter, avoiding overlap.*\n",
    "\n",
    "### OF2 Maximize the number of sessions in which all the language pairs are covered.\n",
    "For the second objective function, we introduced a new binary variable describing if all pair of languages are covered or not in a session $SC_{bs}$:\n",
    "\n",
    "$$ \\begin{equation} \n",
    "    \\max \\sum_{b \\in B}\\sum_{s \\in S(b)} SC_{bs} \n",
    "\\end{equation}$$\n",
    "\n",
    "<b>Subject to:</b>\n",
    "\n",
    "$$\\begin{equation}\n",
    "    X_{bsli} = 0 \\quad \\text{if} \\quad l\\notin L_i, \\quad \\forall b, s, l, i\n",
    "\\end{equation} $$\n",
    "*Interpreters can only be assigned to language pairs they speak.*\n",
    "\n",
    "$$\\begin{equation}\n",
    "    \\sum_{s \\in S(b)}\\sum_{l \\in LP(s)} X_{bsli} \\leq 1 \\quad \\forall i, b\n",
    "\\end{equation}$$\n",
    "*No interpreter can be assigned to more than one session or language pair per block.*\n",
    "\n",
    "$$ \\begin{equation} \n",
    "    \\sum_{i \\in I} X_{bsli} \\leq 1 \\quad\\forall b, s, l \n",
    "\\end{equation} $$\n",
    "*Each language pair in a session is covered by at most one interpreter.*\n",
    "\n",
    "$$\\begin{equation}\n",
    "    SC_{bs} \\leq \\frac{1}{|LP(s)|} \\sum_{l \\in LP(s)} \\sum_{i \\in I} X_{bsli} \\quad \\forall b, s\n",
    "\\end{equation}$$\n",
    "*This constraint ensures that $SC_{bs}$ is set to 1 only if all language pairs in session $s$ during block $b$ are covered.*"
   ]
  },
  {
   "cell_type": "markdown",
   "metadata": {},
   "source": [
    "## 2. Some operational constraints\n",
    "We added 2 new constrains to our model:\n",
    "### 1 OC1\n",
    "Each interpreter can be assigned to at most 15 sessions\n",
    "$$\\begin{equation}\n",
    "    \\sum_{b \\in B}\\sum_{s \\in S(b)}\\sum_{l \\in LP(s)} X_{bsli} \\leq 15 \\quad \\forall i\n",
    "\\end{equation}$$\n",
    "\n",
    "### 2.OC2\n",
    "Each interpreter cannot work during more than 3 consecutives blocks\n",
    "$$\\begin{equation}\n",
    "    \\sum_{b \\in B'}\\sum_{s \\in S(b)}\\sum_{l \\in LP(s)} X_{bsli} \\leq 3 \\quad \\forall i, B'\n",
    "\\end{equation}$$\n",
    "$B'$ are all sets of 4 consecutives blocks of B\n"
   ]
  },
  {
   "cell_type": "markdown",
   "metadata": {},
   "source": [
    "## 3.Bridging\n",
    "In the model 3 we allowed bridging. This means that an 2 interpreters can be used to translate from l1 to l2 using a language they both speak l'. We had to change our formulation to meet this new challenge.\n",
    "First, we introduced a new variable $Y_{bsli_1i_2l'}$ which describes if there is a bridge between i_1 and i_2 for language the pair of language l using $l'$ to communicate. We had to change the objective function (OF1) with a new variable ($LC_{b, s,l}$).\n",
    "\n",
    "### OF1\n",
    "$$ \\max \\sum_{b \\in B}\\sum_{s \\in S(b)}\\sum_{l \\in LP(s)} LC_{bsl} $$\n",
    "\n",
    "<b>Subject to:</b>\n",
    "\n",
    "Check if interpreters do speak the languages\n",
    "$$\\begin{equation}\n",
    "    X_{bsli} = 0 \\quad \\text{if} \\quad l\\notin L_i, \\quad \\forall b, s, l, i\n",
    "\\end{equation} $$\n",
    "$$\\begin{equation}\n",
    "    Y_{bsli_1i_2l'} = 0 \\quad \\text{if} \\quad l_1 \\quad or \\quad l'\\notin L_{i_1}, \\quad \\forall b, s, l, i_1, i_2, l'\n",
    "\\end{equation} $$\n",
    "$$\\begin{equation}\n",
    "    Y_{bsli_1i_2l'} = 0 \\quad \\text{if} \\quad l_2 \\quad or\\quad l'\\notin L_{i_2}, \\quad \\forall b, s, l, i_1, i_2, l'\n",
    "\\end{equation} $$\n",
    "\n",
    "One interpreter can translate only one session and only one pair of language at a time\n",
    "$$\\begin{equation}\n",
    "    \\sum_{s \\in S(b)}\\sum_{l \\in LP(s)} X_{bsli} \\leq 1 \\quad \\forall i, b\n",
    "\\end{equation}$$\n",
    "\n",
    "An interpreter can only be part of one bridge at the time\n",
    "$$\\begin{equation}\n",
    "    \\sum_{i_2 \\neq i_1} \\sum_{l \\in LP(s)} \\sum_{l'} Y_{bsli_1i_2l'} \\leq 1 \\quad \\forall b, s, i_1 \n",
    "\\end{equation}$$\n",
    "\n",
    "Link between bridge and assignments\n",
    "$$Y_{bsli_1i_2l'} \\leq X_{bs(l_1,l')i_1}$$\n",
    "$$Y_{bsli_1i_2l'} \\leq X_{bs(l_2,l')i_2}$$\n",
    "\n",
    "Each session can have only one interpreter per language pair\n",
    "$$\\begin{equation} \n",
    "    \\sum_{i \\in I} X_{bsli} \\leq 1 \\quad\\forall b, s, l \n",
    "\\end{equation}$$\n",
    "\n",
    "Language pair covered constraint\n",
    "$$\\begin{equation}\n",
    "    LC_{bsl} \\leq \\sum_{i \\in I} X_{bsli} + \\sum_{i_1, i_2 \\in I} Y_{bsli_1i_2l'} \\quad \\forall b, s, l\n",
    "\\end{equation}$$\n",
    "\n",
    "### OF2\n",
    "Same formulation but we changed the constraint on the session covered by:\n",
    "$$\\begin{equation}\n",
    "    SC_{bs} \\leq \\frac{1}{|LP(s)|} \\sum_{l \\in LP(s)} LC_{bsl} \\quad \\forall b, s\n",
    "\\end{equation}$$"
   ]
  },
  {
   "cell_type": "markdown",
   "id": "c4f36ad6",
   "metadata": {
    "vscode": {
     "languageId": "plaintext"
    }
   },
   "source": [
    "## Bibliogrpahy \n",
    "\n"
   ]
  },
  {
   "cell_type": "markdown",
   "id": "ead8328d",
   "metadata": {},
   "source": [
    "\n",
    "- **Chu, Sydney C K.**  \n",
    "    *Staffing Model for Scheduling Simultaneous Interpreters under Tight Constraints*  \n",
    "    The Government Secretariat of Hong Kong faces increasing demand for simultaneous interpretation (SI) services, leading to tight manpower scheduling. The study addresses workload balancing, equitability, and feasibility versus optimality in a many-rule setting, using optimization modeling and computer implementation.  \n",
    "    [PDF available locally]\n",
    "\n",
    "- **Ahmed, Abdulaziz & Hamasha, Mohammad M. (2018).**  \n",
    "    *Scheduling Language Interpreters at a Medical Center: An Integer Programming Approach*  \n",
    "    This paper develops an integer linear programming model to optimize interpreter assignments in medical centers, aiming to minimize staffing costs while ensuring interpreter availability.  \n",
    "    [Read more](https://www.proquest.com/docview/2553579198/abstract/45D7F3C6942447B7PQ/1)\n",
    "\n",
    "- **Smith, Stephen F. (2005).**  \n",
    "    *Is Scheduling a Solved Problem?*  \n",
    "    In: Multidisciplinary Scheduling: Theory and Applications. Boston, MA: Springer US, pp. 3–17.  \n",
    "    Discusses the advances and remaining challenges in scheduling research, highlighting the complexity and context-dependence of real-world scheduling problems.  \n",
    "    [DOI: 10.1007/0-387-27744-7_1](https://doi.org/10.1007/0-387-27744-7_1)\n",
    "\n",
    "- **Ahmed, Abdulaziz & Frohn, Elizabeth (2021).**  \n",
    "    *A predictive and prescriptive analytical framework for scheduling language medical interpreters*  \n",
    "    Health Care Management Science, 24(3), 531–550.  \n",
    "    Proposes a framework combining predictive modeling for demand forecasting and multi-objective integer programming for interpreter scheduling in healthcare, aiming to minimize costs and maximize service quality and interpreter utilization.  \n",
    "    [DOI: 10.1007/s10729-020-09536-y](https://doi.org/10.1007/s10729-020-09536-y)\n",
    "\n",
    "- **Interpreter Instruction Scheduling**  \n",
    "    *(PDF) Interpreter Instruction Scheduling*  \n",
    "    [Read online](https://www.researchgate.net/publication/221302660_Interpreter_Instruction_Scheduling)\n"
   ]
  }
 ],
 "metadata": {
  "language_info": {
   "name": "python"
  }
 },
 "nbformat": 4,
 "nbformat_minor": 5
}
